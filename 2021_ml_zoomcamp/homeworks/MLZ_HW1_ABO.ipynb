{
 "cells": [
  {
   "cell_type": "markdown",
   "metadata": {
    "button": false,
    "deletable": true,
    "new_sheet": false,
    "run_control": {
     "read_only": false
    }
   },
   "source": [
    "# Machine Learning Zoomcamp\n",
    "\n",
    "\n",
    "## Session # 1 Homework\n",
    "\n",
    "\n"
   ]
  },
  {
   "cell_type": "markdown",
   "metadata": {
    "button": false,
    "deletable": true,
    "new_sheet": false,
    "run_control": {
     "read_only": false
    }
   },
   "source": [
    "\n",
    "\n",
    "## Alfredo Baron Ocampo"
   ]
  },
  {
   "cell_type": "markdown",
   "metadata": {
    "button": false,
    "deletable": true,
    "new_sheet": false,
    "run_control": {
     "read_only": false
    }
   },
   "source": [
    "### Question 1\n",
    "\n",
    "What's the version of NumPy that you installed?"
   ]
  },
  {
   "cell_type": "code",
   "execution_count": 1,
   "metadata": {
    "button": false,
    "collapsed": false,
    "deletable": true,
    "new_sheet": false,
    "run_control": {
     "read_only": false
    }
   },
   "outputs": [
    {
     "data": {
      "text/plain": [
       "'1.11.0.dev0+cee68d1'"
      ]
     },
     "execution_count": 1,
     "metadata": {},
     "output_type": "execute_result"
    }
   ],
   "source": [
    "import numpy as np\n",
    "#numpy version\n",
    "np.__version__"
   ]
  },
  {
   "cell_type": "markdown",
   "metadata": {
    "button": false,
    "deletable": true,
    "new_sheet": false,
    "run_control": {
     "read_only": false
    }
   },
   "source": [
    "### Question 2\n",
    "What's the version of Pandas?"
   ]
  },
  {
   "cell_type": "code",
   "execution_count": 2,
   "metadata": {
    "button": false,
    "collapsed": false,
    "deletable": true,
    "new_sheet": false,
    "run_control": {
     "read_only": false
    }
   },
   "outputs": [
    {
     "data": {
      "text/plain": [
       "'0.16.2'"
      ]
     },
     "execution_count": 2,
     "metadata": {},
     "output_type": "execute_result"
    }
   ],
   "source": [
    "import pandas as pd\n",
    "#pandas version\n",
    "pd.__version__"
   ]
  },
  {
   "cell_type": "markdown",
   "metadata": {
    "button": false,
    "deletable": true,
    "new_sheet": false,
    "run_control": {
     "read_only": false
    }
   },
   "source": [
    "#### Download and read the file https://raw.githubusercontent.com/alexeygrigorev/mlbookcamp-code/master/chapter-02-car-price/data.csv in pandas"
   ]
  },
  {
   "cell_type": "code",
   "execution_count": 5,
   "metadata": {
    "button": false,
    "collapsed": false,
    "deletable": true,
    "new_sheet": false,
    "run_control": {
     "read_only": false
    }
   },
   "outputs": [
    {
     "name": "stdout",
     "output_type": "stream",
     "text": [
      "          Make       Model  Year                Engine Fuel Type  Engine HP  \\\n",
      "0          BMW  1 Series M  2011     premium unleaded (required)      335.0   \n",
      "1          BMW    1 Series  2011     premium unleaded (required)      300.0   \n",
      "2          BMW    1 Series  2011     premium unleaded (required)      300.0   \n",
      "3          BMW    1 Series  2011     premium unleaded (required)      230.0   \n",
      "4          BMW    1 Series  2011     premium unleaded (required)      230.0   \n",
      "...        ...         ...   ...                             ...        ...   \n",
      "11909    Acura         ZDX  2012     premium unleaded (required)      300.0   \n",
      "11910    Acura         ZDX  2012     premium unleaded (required)      300.0   \n",
      "11911    Acura         ZDX  2012     premium unleaded (required)      300.0   \n",
      "11912    Acura         ZDX  2013  premium unleaded (recommended)      300.0   \n",
      "11913  Lincoln      Zephyr  2006                regular unleaded      221.0   \n",
      "\n",
      "       Engine Cylinders Transmission Type      Driven_Wheels  Number of Doors  \\\n",
      "0                   6.0            MANUAL   rear wheel drive              2.0   \n",
      "1                   6.0            MANUAL   rear wheel drive              2.0   \n",
      "2                   6.0            MANUAL   rear wheel drive              2.0   \n",
      "3                   6.0            MANUAL   rear wheel drive              2.0   \n",
      "4                   6.0            MANUAL   rear wheel drive              2.0   \n",
      "...                 ...               ...                ...              ...   \n",
      "11909               6.0         AUTOMATIC    all wheel drive              4.0   \n",
      "11910               6.0         AUTOMATIC    all wheel drive              4.0   \n",
      "11911               6.0         AUTOMATIC    all wheel drive              4.0   \n",
      "11912               6.0         AUTOMATIC    all wheel drive              4.0   \n",
      "11913               6.0         AUTOMATIC  front wheel drive              4.0   \n",
      "\n",
      "                             Market Category Vehicle Size  Vehicle Style  \\\n",
      "0      Factory Tuner,Luxury,High-Performance      Compact          Coupe   \n",
      "1                         Luxury,Performance      Compact    Convertible   \n",
      "2                    Luxury,High-Performance      Compact          Coupe   \n",
      "3                         Luxury,Performance      Compact          Coupe   \n",
      "4                                     Luxury      Compact    Convertible   \n",
      "...                                      ...          ...            ...   \n",
      "11909             Crossover,Hatchback,Luxury      Midsize  4dr Hatchback   \n",
      "11910             Crossover,Hatchback,Luxury      Midsize  4dr Hatchback   \n",
      "11911             Crossover,Hatchback,Luxury      Midsize  4dr Hatchback   \n",
      "11912             Crossover,Hatchback,Luxury      Midsize  4dr Hatchback   \n",
      "11913                                 Luxury      Midsize          Sedan   \n",
      "\n",
      "       highway MPG  city mpg  Popularity   MSRP  \n",
      "0               26        19        3916  46135  \n",
      "1               28        19        3916  40650  \n",
      "2               28        20        3916  36350  \n",
      "3               28        18        3916  29450  \n",
      "4               28        18        3916  34500  \n",
      "...            ...       ...         ...    ...  \n",
      "11909           23        16         204  46120  \n",
      "11910           23        16         204  56670  \n",
      "11911           23        16         204  50620  \n",
      "11912           23        16         204  50920  \n",
      "11913           26        17          61  28995  \n",
      "\n",
      "[11914 rows x 16 columns]\n"
     ]
    }
   ],
   "source": [
    "#Read dataset from file\n",
    "df=pd.read_csv('data.csv')\n",
    "print(df)"
   ]
  },
  {
   "cell_type": "markdown",
   "metadata": {
    "button": false,
    "deletable": true,
    "new_sheet": false,
    "run_control": {
     "read_only": false
    }
   },
   "source": [
    "### Question 3\n",
    "What's the average price of BMW cars in the dataset?"
   ]
  },
  {
   "cell_type": "code",
   "execution_count": 10,
   "metadata": {
    "button": false,
    "collapsed": false,
    "deletable": true,
    "new_sheet": false,
    "run_control": {
     "read_only": false
    }
   },
   "outputs": [
    {
     "data": {
      "text/plain": [
       "61546.76347305389"
      ]
     },
     "execution_count": 10,
     "metadata": {},
     "output_type": "execute_result"
    }
   ],
   "source": [
    "#Average price of BMW cars\n",
    "df[df.Make == 'BMW'].MSRP.mean()"
   ]
  },
  {
   "cell_type": "markdown",
   "metadata": {
    "button": false,
    "deletable": true,
    "new_sheet": false,
    "run_control": {
     "read_only": false
    }
   },
   "source": [
    "### Question 4\n",
    "\n",
    "Select a subset of cars after year 2015 (inclusive, i.e. 2015 and after). How many of them have missing values for Engine HP?"
   ]
  },
  {
   "cell_type": "code",
   "execution_count": 26,
   "metadata": {
    "button": false,
    "collapsed": false,
    "deletable": true,
    "new_sheet": false,
    "run_control": {
     "read_only": false
    },
    "scrolled": false
   },
   "outputs": [
    {
     "name": "stdout",
     "output_type": "stream",
     "text": [
      "Number of cars with missign Engine HP value are \n",
      "51\n"
     ]
    }
   ],
   "source": [
    "#Subset of cars after year 2015\n",
    "df2 = df[df.Year >= 2015]\n",
    "#Cars with missign values in Engine HP\n",
    "print('Number of cars with missign Engine HP value are ')\n",
    "print(len(df2[pd.isnull(df2['Engine HP'])].index))"
   ]
  },
  {
   "cell_type": "markdown",
   "metadata": {
    "button": false,
    "deletable": true,
    "new_sheet": false,
    "run_control": {
     "read_only": false
    }
   },
   "source": [
    "### Question 5\n",
    "\n",
    "* Calculate the average \"Engine HP\" in the dataset.\n",
    "* Use the fillna method and to fill the missing values in \"Engine HP\" with the mean value from the previous step.\n",
    "* Now, calculate the average of \"Engine HP\" again.\n",
    "\n",
    "Has it changed?\n",
    "\n",
    "** Round both means before answering this questions."
   ]
  },
  {
   "cell_type": "code",
   "execution_count": 31,
   "metadata": {
    "button": false,
    "collapsed": false,
    "deletable": true,
    "new_sheet": false,
    "run_control": {
     "read_only": false
    }
   },
   "outputs": [
    {
     "name": "stdout",
     "output_type": "stream",
     "text": [
      "Dataset original Engine HP average =  249\n",
      "New dataset Engine HP average =  249\n"
     ]
    }
   ],
   "source": [
    "#Original HP Engine average\n",
    "EngineHP_avg = round(df['Engine HP'].mean())\n",
    "print('Dataset original Engine HP average = ', EngineHP_avg)\n",
    "#Copy dataset to keep original\n",
    "df3 = df.copy()\n",
    "#Fill missign values\n",
    "df3.fillna(EngineHP_avg)\n",
    "#Calcule new Engine HP average\n",
    "EngineHP_avg_new = round(df3['Engine HP'].mean())\n",
    "print('New dataset Engine HP average = ', EngineHP_avg_new)"
   ]
  },
  {
   "cell_type": "markdown",
   "metadata": {
    "button": false,
    "deletable": true,
    "new_sheet": false,
    "run_control": {
     "read_only": false
    }
   },
   "source": [
    "No, it hasn't changed, because the average of the average in each row filled, is the same average."
   ]
  },
  {
   "cell_type": "markdown",
   "metadata": {
    "button": false,
    "deletable": true,
    "new_sheet": false,
    "run_control": {
     "read_only": false
    }
   },
   "source": [
    "### Question 6\n",
    "\n",
    "* Select all the \"Rolls-Royce\" cars from the dataset.\n",
    "* Select only columns \"Engine HP\", \"Engine Cylinders\", \"highway MPG\".\n",
    "* Now drop all duplicated rows using drop_duplicates method (you should get a dataframe with 7 rows).\n",
    "* Get the underlying NumPy array. Let's call it X.\n",
    "* Compute matrix-matrix multiplication between the transpose of X and X. To get the transpose, use X.T. Let's call the result XTX.\n",
    "* Invert XTX.\n",
    "\n",
    "What's the sum of all the elements of the result?"
   ]
  },
  {
   "cell_type": "code",
   "execution_count": 50,
   "metadata": {
    "button": false,
    "collapsed": false,
    "deletable": true,
    "new_sheet": false,
    "run_control": {
     "read_only": false
    }
   },
   "outputs": [
    {
     "name": "stdout",
     "output_type": "stream",
     "text": [
      "31\n",
      "7\n",
      "0.03221232067748617\n"
     ]
    }
   ],
   "source": [
    "#Select all the \"Rolls-Royce\" cars and only columns \"Engine HP\", \"Engine Cylinders\", \"highway MPG\"\n",
    "df4 = df[df.Make == 'Rolls-Royce'][['Engine HP','Engine Cylinders','highway MPG']]\n",
    "#Show the number of rows\n",
    "print(len(df4.index))\n",
    "#Drop duplicates\n",
    "df5 = df4.drop_duplicates()\n",
    "#Show the number of rows (must be 7)\n",
    "print(len(df5.index))\n",
    "#Convert to numpy array and store in X\n",
    "X = df5.to_numpy()\n",
    "#Multiply transpose of X and X\n",
    "XTX = np.dot(X.T,X)\n",
    "#Inverse XTX\n",
    "IXTX = np.linalg.inv(XTX)\n",
    "#Sum all the elements (must be greater than zero)\n",
    "print(np.sum(IXTX))"
   ]
  },
  {
   "cell_type": "markdown",
   "metadata": {
    "button": false,
    "deletable": true,
    "new_sheet": false,
    "run_control": {
     "read_only": false
    }
   },
   "source": [
    "### Question 7\n",
    "\n",
    "* Create an array y with values [1000, 1100, 900, 1200, 1000, 850, 1300].\n",
    "* Multiply the inverse of XTX with the transpose of X, and then multiply the result by y. Call the result w.\n",
    "\n",
    "What's the value of the first element of w?."
   ]
  },
  {
   "cell_type": "code",
   "execution_count": 54,
   "metadata": {
    "button": false,
    "collapsed": false,
    "deletable": true,
    "new_sheet": false,
    "run_control": {
     "read_only": false
    }
   },
   "outputs": [
    {
     "name": "stdout",
     "output_type": "stream",
     "text": [
      "[ 0.19989598 31.02612262 31.65378877]\n",
      "0.19989598183185908\n"
     ]
    }
   ],
   "source": [
    "#Creating y array\n",
    "y = [1000, 1100, 900, 1200, 1000, 850, 1300]\n",
    "#IXTX is the inverse of XTX from question # 6\n",
    "#Transpose of X is X.T\n",
    "w = np.dot(np.dot(IXTX,X.T),y)\n",
    "#Show results\n",
    "print(w)\n",
    "print(w[0])"
   ]
  }
 ],
 "metadata": {
  "kernelspec": {
   "display_name": "Python 3",
   "language": "python",
   "name": "python3"
  },
  "language_info": {
   "codemirror_mode": {
    "name": "ipython",
    "version": 3
   },
   "file_extension": ".py",
   "mimetype": "text/x-python",
   "name": "python",
   "nbconvert_exporter": "python",
   "pygments_lexer": "ipython3",
   "version": "3.5.0"
  }
 },
 "nbformat": 4,
 "nbformat_minor": 5
}
